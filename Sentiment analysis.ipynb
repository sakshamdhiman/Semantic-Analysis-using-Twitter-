{
 "cells": [
  {
   "cell_type": "code",
   "execution_count": 7,
   "metadata": {},
   "outputs": [],
   "source": [
    "import tweepy \n",
    "from textblob import TextBlob\n",
    "import numpy as np\n",
    "import csv\n"
   ]
  },
  {
   "cell_type": "code",
   "execution_count": 8,
   "metadata": {},
   "outputs": [],
   "source": [
    "cons_key = '' \n",
    "cons_secret = ''\n",
    "\n",
    "access_token = ''\n",
    "access_token_secret = ''"
   ]
  },
  {
   "cell_type": "code",
   "execution_count": 9,
   "metadata": {},
   "outputs": [],
   "source": [
    "auth = tweepy.OAuthHandler(cons_key, cons_secret)#authorising twitter access\n",
    "auth.set_access_token(access_token, access_token_secret)"
   ]
  },
  {
   "cell_type": "code",
   "execution_count": 10,
   "metadata": {},
   "outputs": [],
   "source": [
    "api = tweepy.API(auth)"
   ]
  },
  {
   "cell_type": "code",
   "execution_count": 24,
   "metadata": {},
   "outputs": [
    {
     "name": "stdout",
     "output_type": "stream",
     "text": [
      "RT @C_3C_3: Devin Nunes discovered the Obama Admin was spying on Trump and he TOOK ACTION.\n",
      "\n",
      "Devin Nunes discovered Twitter was shadowbannin…\n",
      "RT @ChuckCallesto: BREAKING: Former Obama and Clinton Adviser Takes His Own Life... \n",
      "\n",
      "\n",
      "RT @cornellbelcher: I am completely sick of this inaccurate narrative about Dems needing Trump voters.Did Trump win a majority in PA?-no,Wi…\n",
      "RT @marklutchman: 49 gay Americans are killed by a Muslim in Florida &amp; nobody blames Obama.\n",
      "\n",
      "49 Muslims are killed by an eco-fascist (liber…\n",
      "@honkabogo They r covering up their nakedness?\n",
      "Because....\n",
      "\n",
      "Obama = Innocent \n",
      "Trump = GUILTY AND SHOOK. \n",
      "RT @LisaMei62: Alan Krueger, economic adviser to Obama and Clinton, takes own live at 58 \n",
      "RT @samstein: Interesting. @JoeNBC says that Trump privately conceded to him that he knew the birther crusade he led against Obama was a li…\n",
      "RT @Patriotism705: TRUE FACTS: OBAMA WAS A \"FAILURE\" AS PRESIDENT! HE WAS NOTHING MORE THAN A \"PUPPET\" FOR GEORGE SORES! HE WORKED TO DESTR…\n",
      "This is what a lack of political education looks like.  Remember Obama choose him and \"we\" voted them in.  \n",
      "Alan Krueger, economic adviser to Obama and Clinton, takes own life at 58 \n",
      "Top story: @mikandynothem: 'Alas, these are strange times.  Democrats are being taken over by Muslims and Socialist… \n",
      "@henryshield Though I don't like this guy but there's nothing wrong in this picture. If it was Obama or Trump  it would have bn \"goals\"\n"
     ]
    }
   ],
   "source": [
    "all_tweets = api.search('Obama')#the keyword that is to be analysed\n",
    "with open('keyword_analysis.csv', 'w') as csvFile:\n",
    "    \n",
    "    writer = csv.writer(csvFile)\n",
    "    writer.writerow(['polarity' , 'subjectivity', 'tweet_text'])\n",
    "    csv.register_dialect('myDialect', delimiter = '|', lineterminator = '\\r\\n\\r\\n\\r\\n')    \n",
    "    \n",
    "    for tweet in all_tweets:\n",
    "        if tweet.lang == \"en\":\n",
    "            analysis = TextBlob(tweet.text)\n",
    "            tweet_text = tweet.text.split('https')[0]\n",
    "            print(tweet_text)\n",
    "            ana_sent = analysis.sentiment  \n",
    "            subjectivity = ana_sent[1]\n",
    "            polarity = ana_sent[0]\n",
    "            \n",
    "            csvData = [ polarity , subjectivity, tweet_text]\n",
    "            writer.writerow(csvData)\n",
    "\n",
    "# subjectivity -> based on or influenced by personal feelings, tastes, or opinions.\n",
    "# 1)     polarity: negative vs. positive    (-1.0 => +1.0)\n",
    "# 2) subjectivity: objective vs. subjective (+0.0 => +1.0)"
   ]
  },
  {
   "cell_type": "code",
   "execution_count": 23,
   "metadata": {},
   "outputs": [],
   "source": []
  },
  {
   "cell_type": "code",
   "execution_count": null,
   "metadata": {},
   "outputs": [],
   "source": []
  },
  {
   "cell_type": "code",
   "execution_count": null,
   "metadata": {},
   "outputs": [],
   "source": []
  },
  {
   "cell_type": "code",
   "execution_count": 97,
   "metadata": {},
   "outputs": [],
   "source": []
  },
  {
   "cell_type": "code",
   "execution_count": null,
   "metadata": {},
   "outputs": [],
   "source": []
  },
  {
   "cell_type": "code",
   "execution_count": null,
   "metadata": {},
   "outputs": [],
   "source": []
  }
 ],
 "metadata": {
  "kernelspec": {
   "display_name": "Python 3",
   "language": "python",
   "name": "python3"
  },
  "language_info": {
   "codemirror_mode": {
    "name": "ipython",
    "version": 3
   },
   "file_extension": ".py",
   "mimetype": "text/x-python",
   "name": "python",
   "nbconvert_exporter": "python",
   "pygments_lexer": "ipython3",
   "version": "3.6.5"
  }
 },
 "nbformat": 4,
 "nbformat_minor": 2
}
